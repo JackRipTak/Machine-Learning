{
 "cells": [
  {
   "cell_type": "code",
   "execution_count": 1,
   "id": "6503c628-1a76-463b-8811-9830f8fe06bd",
   "metadata": {},
   "outputs": [],
   "source": [
    "from sklearn.cluster import KMeans, DBSCAN, AgglomerativeClustering\n",
    "from sklearn.decomposition import PCA\n",
    "from sklearn.manifold import TSNE\n",
    "import mindspore.dataset as ds\n",
    "import matplotlib.pyplot as plt\n",
    "import numpy as np"
   ]
  },
  {
   "cell_type": "code",
   "execution_count": 2,
   "id": "f76a6316-e443-4184-b655-43403c20a4fa",
   "metadata": {},
   "outputs": [],
   "source": [
    "def visualize(X, y, y_pred, title=None, type='pca'):\n",
    "    # 可视化,pca降维或者tsne\n",
    "    if type == 'pca':\n",
    "        pca = PCA(n_components=2)\n",
    "        X_dim_reduction = pca.fit_transform(X)\n",
    "\n",
    "    elif type == 'tsne':\n",
    "        t_sne = TSNE(n_components=2)\n",
    "        X_dim_reduction = t_sne.fit_transform(X)\n",
    "    else:\n",
    "        X_dim_reduction = X\n",
    "    # print(X_dim_reduction.shape)\n",
    "    plt.figure(figsize=(10, 12))\n",
    "\n",
    "    def get_color(y):\n",
    "        color_dict = {-1: 'white', 0: 'red', 1: 'orange', 2: 'yellow', 3: 'green', 4: 'magenta', \n",
    "                      5: 'blue', 6: 'cyan', 7: 'brown', 8: 'purple', 9: 'aquamarine'}\n",
    "        color = []\n",
    "        for i in range(y.shape[0]):\n",
    "            color.append(color_dict.get(y[i].item(), 'olive'))\n",
    "        return color\n",
    "    plt.suptitle(title, fontweight=16)\n",
    "    plt.subplot(211)\n",
    "    plt.title('origin data')\n",
    "    plt.scatter(X_dim_reduction[:, 0], X_dim_reduction[:, 1], c=get_color(y), edgecolors='black')\n",
    "    plt.subplot(212)\n",
    "    plt.title('cluster result')\n",
    "    plt.scatter(X_dim_reduction[:, 0], X_dim_reduction[:, 1], c=get_color(y_pred), edgecolors='black')\n",
    "    plt.show()"
   ]
  },
  {
   "cell_type": "code",
   "execution_count": 3,
   "id": "ff39ea0b-e68e-436a-9f11-d710fd0fabae",
   "metadata": {},
   "outputs": [],
   "source": [
    "def get_dataset_cifar(split):\n",
    "    data_path = './datasets/cifar10/' + split\n",
    "    dataset = ds.Cifar10Dataset(data_path)\n",
    "    dataset = dataset.batch(1)\n",
    "    iterator_show = dataset.create_dict_iterator()\n",
    "    class_a_num = 0\n",
    "    class_b_num = 0\n",
    "    class_c_num = 0\n",
    "    x = []\n",
    "    y = []\n",
    "    while class_a_num < 500:\n",
    "        data = next(iterator_show)\n",
    "        if data[\"label\"].asnumpy() == 0:\n",
    "            x.append(data[\"image\"].reshape(-1).asnumpy())\n",
    "            y.append(data[\"label\"].asnumpy())\n",
    "            class_a_num += 1\n",
    "    while class_b_num < 500:\n",
    "        data = next(iterator_show)\n",
    "        if data[\"label\"].asnumpy() == 5:\n",
    "            x.append(data[\"image\"].reshape(-1).asnumpy())\n",
    "            y.append(data[\"label\"].asnumpy())\n",
    "            class_b_num += 1\n",
    "    while class_c_num < 500:\n",
    "        data = next(iterator_show)\n",
    "        if data[\"label\"].asnumpy() == 9:\n",
    "            x.append(data[\"image\"].reshape(-1).asnumpy())\n",
    "            y.append(data[\"label\"].asnumpy())\n",
    "            class_c_num += 1\n",
    "    x = np.array(x)\n",
    "    y = np.array(y)\n",
    "    print(x.shape)\n",
    "    return x, y"
   ]
  },
  {
   "cell_type": "code",
   "execution_count": null,
   "id": "ca24d0e9-e39f-4393-92e0-2a14fca2663b",
   "metadata": {},
   "outputs": [],
   "source": [
    "# tsne降维\n",
    "# t_sne = TSNE(n_components=2)\n",
    "# x_lower = t_sne.fit_transform(x)\n",
    "# pca降维\n",
    "# pca = PCA(n_components=500)\n",
    "# x_lower = pca.fit_transform(x)\n",
    "# 不降维\n",
    "# x_lower = x"
   ]
  }
 ],
 "metadata": {
  "kernelspec": {
   "display_name": "MindSpore",
   "language": "python",
   "name": "mindspore"
  },
  "language_info": {
   "codemirror_mode": {
    "name": "ipython",
    "version": 3
   },
   "file_extension": ".py",
   "mimetype": "text/x-python",
   "name": "python",
   "nbconvert_exporter": "python",
   "pygments_lexer": "ipython3",
   "version": "3.7.10"
  }
 },
 "nbformat": 4,
 "nbformat_minor": 5
}
